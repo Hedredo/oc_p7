{
 "cells": [
  {
   "cell_type": "code",
   "execution_count": 1,
   "metadata": {},
   "outputs": [
    {
     "name": "stderr",
     "output_type": "stream",
     "text": [
      "2025-01-11 11:34:34.565261: I tensorflow/core/platform/cpu_feature_guard.cc:193] This TensorFlow binary is optimized with oneAPI Deep Neural Network Library (oneDNN) to use the following CPU instructions in performance-critical operations:  AVX2 FMA\n",
      "To enable them in other operations, rebuild TensorFlow with the appropriate compiler flags.\n",
      "2025-01-11 11:34:35.804889: I tensorflow/c/logging.cc:34] Successfully opened dynamic library libdirectml.d6f03b303ac3c4f2eeb8ca631688c9757b361310.so\n",
      "2025-01-11 11:34:35.804941: I tensorflow/c/logging.cc:34] Successfully opened dynamic library libdxcore.so\n",
      "2025-01-11 11:34:35.811230: I tensorflow/c/logging.cc:34] Successfully opened dynamic library libd3d12.so\n",
      "Dropped Escape call with ulEscapeCode : 0x03007703\n",
      "Dropped Escape call with ulEscapeCode : 0x03007703\n",
      "2025-01-11 11:34:36.333241: I tensorflow/c/logging.cc:34] DirectML device enumeration: found 1 compatible adapters.\n"
     ]
    }
   ],
   "source": [
    "import tensorflow as tf\n",
    "\n",
    "# Clear custom objects in case of re-import\n",
    "tf.keras.utils.get_custom_objects().clear()\n",
    "\n",
    "\n",
    "@tf.keras.utils.register_keras_serializable(\n",
    "    package=\"custom_text_func\", name=\"custom_standardization_punct\"\n",
    ")\n",
    "def custom_standardization_punct(tensor):\n",
    "    tensor = tf.strings.lower(tensor)  # lowercase\n",
    "    tensor = tf.strings.regex_replace(tensor, r\"https?://?\\S+\", \" \")  # strip mentions\n",
    "    tensor = tf.strings.regex_replace(tensor, r\"www\\.\\w+\\S+\", \" \")  # strip mentions\n",
    "    tensor = tf.strings.regex_replace(tensor, r\"@\\w+\", \"@usertag\")\n",
    "    tensor = tf.strings.regex_replace(tensor, r\"#\\w+\", \" \")\n",
    "    tensor = tf.strings.regex_replace(tensor, r\"(\\w+)[.,!?;](\\w+)\", r\"\\1 \\2\")\n",
    "    tensor = tf.strings.regex_replace(tensor, r\"\\s{2,}\", \" \")  # strip multiple spaces\n",
    "    return tf.strings.strip(tensor)  # strip leading and trailing spaces\n",
    "\n",
    "\n",
    "@tf.keras.utils.register_keras_serializable(\n",
    "    package=\"custom_text_func\", name=\"custom_standardization_nopunct_digits\"\n",
    ")\n",
    "def custom_standardization_nopunct_digits(tensor):\n",
    "    tensor = tf.strings.lower(tensor)  # lowercase\n",
    "    tensor = tf.strings.regex_replace(tensor, r\"https?://?\\S+\", \" \")  # strip mentions\n",
    "    tensor = tf.strings.regex_replace(tensor, r\"www\\.\\w+\\S+\", \" \")  # strip mentions\n",
    "    tensor = tf.strings.regex_replace(tensor, r\"@\\w+\", \"@usertag\")\n",
    "    tensor = tf.strings.regex_replace(tensor, r\"#\\w+\", \" \")\n",
    "    tensor = tf.strings.regex_replace(tensor, r\"(\\w+)[.,!?;](\\w+)\", r\"\\1 \\2\")\n",
    "    tensor = tf.strings.regex_replace(\n",
    "        tensor, r\"[\\\\/.,!?;_:()=<>\\[\\]\\-]\", \" \"\n",
    "    )  # replace special chars and punct\n",
    "    tensor = tf.strings.regex_replace(tensor, r\"[0-9]\", \" \")  # remove numbers\n",
    "    tensor = tf.strings.regex_replace(tensor, r\"\\s{2,}\", \" \")  # strip multiple spaces\n",
    "    return tf.strings.strip(tensor)  # strip leading and trailing spaces"
   ]
  }
 ],
 "metadata": {
  "kernelspec": {
   "display_name": "p7",
   "language": "python",
   "name": "python3"
  },
  "language_info": {
   "codemirror_mode": {
    "name": "ipython",
    "version": 3
   },
   "file_extension": ".py",
   "mimetype": "text/x-python",
   "name": "python",
   "nbconvert_exporter": "python",
   "pygments_lexer": "ipython3",
   "version": "3.10.15"
  }
 },
 "nbformat": 4,
 "nbformat_minor": 2
}
