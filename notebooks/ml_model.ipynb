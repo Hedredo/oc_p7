{
 "cells": [
  {
   "cell_type": "code",
   "execution_count": 18,
   "metadata": {},
   "outputs": [],
   "source": [
    "# from sklearn.metrics import confusion_matrix, accuracy_score, classification_report\n",
    "import pandas as pd\n",
    "import numpy as np\n",
    "import pickle\n",
    "import warnings\n",
    "import mlflow\n",
    "import mlflow.sklearn\n",
    "from tqdm import tqdm\n",
    "from utils import split_data, load_splits_from_parquet\n",
    "from ml import create_ml_model\n",
    "from sklearn.model_selection import cross_validate\n",
    "from sklearn.feature_extraction.text import TfidfVectorizer\n",
    "from sklearn.pipeline import Pipeline\n",
    "from sklearn.linear_model import LogisticRegression\n",
    "from sklearn.metrics import accuracy_score\n"
   ]
  },
  {
   "cell_type": "code",
   "execution_count": 19,
   "metadata": {},
   "outputs": [],
   "source": [
    "SEED = 314\n",
    "# Define the URI of the MLflow server and the name of the experiment\n",
    "URI = \"http://localhost:5000\"\n",
    "PATH_PARQUET = \"../data/processed/df_preprocessed.parquet\"\n",
    "PATH_COLS = \"../data/processed/columns.pkl\""
   ]
  },
  {
   "cell_type": "code",
   "execution_count": 20,
   "metadata": {},
   "outputs": [
    {
     "name": "stdout",
     "output_type": "stream",
     "text": [
      "Random seed set to 314\n"
     ]
    }
   ],
   "source": [
    "# Remove FutureWarning alerts\n",
    "warnings.filterwarnings(\"ignore\", category=FutureWarning)\n",
    "\n",
    "# Initialiser tqdm pour pandas\n",
    "tqdm.pandas()\n",
    "\n",
    "# Set a random seed\n",
    "np.random.seed(SEED)\n",
    "print(\"Random seed set to\", SEED)"
   ]
  },
  {
   "cell_type": "code",
   "execution_count": 21,
   "metadata": {},
   "outputs": [],
   "source": [
    "# Load the pickle file containing the columns\n",
    "with open(PATH_COLS, \"rb\") as f:\n",
    "    cols = pickle.load(f)\n",
    "\n",
    "# Load the parquet file\n",
    "df = pd.read_parquet(\n",
    "    PATH_PARQUET,\n",
    "    engine=\"pyarrow\",\n",
    "    use_nullable_dtypes=False,\n",
    ")"
   ]
  },
  {
   "cell_type": "markdown",
   "metadata": {},
   "source": [
    "# **Séparation des données**"
   ]
  },
  {
   "cell_type": "code",
   "execution_count": 22,
   "metadata": {},
   "outputs": [],
   "source": [
    "# Define the parameters for the split\n",
    "proportion = 0.015\n",
    "sampling = True\n",
    "test_split = 0.2\n",
    "\n",
    "# Split the data\n",
    "X_train_full, X_test_full, y_train, y_test = split_data(\n",
    "    df,\n",
    "    test_split=test_split,\n",
    "    sampling=sampling,\n",
    "    proportion=proportion,\n",
    ")"
   ]
  },
  {
   "cell_type": "code",
   "execution_count": 23,
   "metadata": {},
   "outputs": [],
   "source": [
    "def cross_score(X_train, y_train, model, col, cv=10):\n",
    "    \"\"\"\n",
    "    Perform a cross-validation on the model\n",
    "    :param X_train: Training data\n",
    "    :param y_train: Training target\n",
    "    :param model: Model to train\n",
    "    :param cv: Number of folds\n",
    "    :return: scores\n",
    "    \"\"\"\n",
    "    # Perform a cross-validation\n",
    "    scores = cross_validate(model, X_train, y_train, cv=cv, scoring=[\"accuracy\", \"f1\"])\n",
    "    # Return the mean scores\n",
    "    return pd.DataFrame(scores).mean().rename(col)"
   ]
  },
  {
   "cell_type": "markdown",
   "metadata": {},
   "source": [
    "# Evaluate the models"
   ]
  },
  {
   "cell_type": "markdown",
   "metadata": {},
   "source": [
    "Pour débuter les évaluations des modèles, nous allons d'abord tester les différents jeux de données sans les features d'ingéniérie. Nous allons ensuite ajouter les features d'ingéniérie pour voir si cela améliore les performances des modèles."
   ]
  },
  {
   "cell_type": "code",
   "execution_count": 24,
   "metadata": {},
   "outputs": [
    {
     "data": {
      "text/plain": [
       "<Experiment: artifact_location='/home/hedredo/github/p7/mlruns/1', creation_time=1735481304954, experiment_id='1', last_update_time=1735481304954, lifecycle_stage='active', name='ml_tfidf', tags={}>"
      ]
     },
     "execution_count": 24,
     "metadata": {},
     "output_type": "execute_result"
    }
   ],
   "source": [
    "# Define the URI of the MLflow server and the name of the experiment\n",
    "experiment = \"ml_tfidf\"\n",
    "cols_tracked = cols[3:]\n",
    "val_split = 0.2\n",
    "\n",
    "# Set the tracking URI\n",
    "mlflow.set_tracking_uri(URI)\n",
    "# try to connect to the server\n",
    "try:\n",
    "    mlflow.tracking.get_tracking_uri()\n",
    "except Exception as e:\n",
    "    print(f\"Cannot connect to the server : {URI}. Check the server status.\")\n",
    "    raise e\n",
    "# Set, and create if necessary, the experiment\n",
    "try:\n",
    "    mlflow.create_experiment(experiment)\n",
    "except:\n",
    "    pass\n",
    "mlflow.set_experiment(experiment)"
   ]
  },
  {
   "cell_type": "code",
   "execution_count": 25,
   "metadata": {},
   "outputs": [
    {
     "name": "stderr",
     "output_type": "stream",
     "text": [
      "2025/01/05 02:39:18 INFO mlflow.tracking._tracking_service.client: 🏃 View run melodic-jay-85 at: http://localhost:5000/#/experiments/1/runs/759c0a54c1f543979c1f42fd13a285aa.\n",
      "2025/01/05 02:39:18 INFO mlflow.tracking._tracking_service.client: 🧪 View experiment at: http://localhost:5000/#/experiments/1.\n",
      "2025/01/05 02:39:26 INFO mlflow.tracking._tracking_service.client: 🏃 View run delicate-rat-457 at: http://localhost:5000/#/experiments/1/runs/c5240bb6b6f34eb3b87646dc6d78c17e.\n",
      "2025/01/05 02:39:26 INFO mlflow.tracking._tracking_service.client: 🧪 View experiment at: http://localhost:5000/#/experiments/1.\n",
      "2025/01/05 02:39:34 INFO mlflow.tracking._tracking_service.client: 🏃 View run vaunted-cub-728 at: http://localhost:5000/#/experiments/1/runs/a87dee9f5a1e482fbaab2d660ab31162.\n",
      "2025/01/05 02:39:34 INFO mlflow.tracking._tracking_service.client: 🧪 View experiment at: http://localhost:5000/#/experiments/1.\n",
      "2025/01/05 02:39:40 INFO mlflow.tracking._tracking_service.client: 🏃 View run gifted-skunk-247 at: http://localhost:5000/#/experiments/1/runs/b9295b278ebb466488952ea0c038f1f0.\n",
      "2025/01/05 02:39:40 INFO mlflow.tracking._tracking_service.client: 🧪 View experiment at: http://localhost:5000/#/experiments/1.\n",
      "2025/01/05 02:39:47 INFO mlflow.tracking._tracking_service.client: 🏃 View run lyrical-ram-839 at: http://localhost:5000/#/experiments/1/runs/a85e1529fc964f9db749e1535f980f0d.\n",
      "2025/01/05 02:39:47 INFO mlflow.tracking._tracking_service.client: 🧪 View experiment at: http://localhost:5000/#/experiments/1.\n",
      "2025/01/05 02:39:54 INFO mlflow.tracking._tracking_service.client: 🏃 View run agreeable-cat-246 at: http://localhost:5000/#/experiments/1/runs/d6c5139b2c364356b8c755b5f64e00ae.\n",
      "2025/01/05 02:39:54 INFO mlflow.tracking._tracking_service.client: 🧪 View experiment at: http://localhost:5000/#/experiments/1.\n"
     ]
    }
   ],
   "source": [
    "for col_name in cols_tracked:\n",
    "    X_train, X_test = load_splits_from_parquet(\n",
    "        X_train_full, X_test_full, cols=[col_name], path=PATH_PARQUET\n",
    "    )\n",
    "    mlflow.sklearn.autolog()\n",
    "    with mlflow.start_run() as active_run:\n",
    "        # create a pipeline with Tf-Idf and Logistic Regression\n",
    "        model = create_ml_model(\n",
    "            col_name,\n",
    "            TfidfVectorizer(\n",
    "                ngram_range=(1, 1),\n",
    "                min_df=5,\n",
    "                strip_accents=\"unicode\",\n",
    "                stop_words=None,\n",
    "            ),\n",
    "            LogisticRegression(max_iter=1000),\n",
    "        )\n",
    "        # Fit the model\n",
    "        model.fit(X_train, y_train)\n",
    "        # Predict the target\n",
    "        accuracy = model.score(X_test, y_test)\n",
    "        y_pred = model.predict(X_test)\n",
    "        mlflow.log_param(\"data_preparation\", col_name)"
   ]
  },
  {
   "cell_type": "markdown",
   "metadata": {},
   "source": [
    "Suite"
   ]
  },
  {
   "cell_type": "code",
   "execution_count": 26,
   "metadata": {},
   "outputs": [
    {
     "name": "stderr",
     "output_type": "stream",
     "text": [
      "2025/01/05 02:40:02 INFO mlflow.tracking._tracking_service.client: 🏃 View run sassy-shark-236 at: http://localhost:5000/#/experiments/1/runs/1cb452a609a84f5e8052b2b2c64d83ad.\n",
      "2025/01/05 02:40:02 INFO mlflow.tracking._tracking_service.client: 🧪 View experiment at: http://localhost:5000/#/experiments/1.\n",
      "2025/01/05 02:40:09 INFO mlflow.tracking._tracking_service.client: 🏃 View run luxuriant-robin-182 at: http://localhost:5000/#/experiments/1/runs/1cd8360b40864ae28f34c852b44f244a.\n",
      "2025/01/05 02:40:09 INFO mlflow.tracking._tracking_service.client: 🧪 View experiment at: http://localhost:5000/#/experiments/1.\n",
      "2025/01/05 02:40:14 INFO mlflow.tracking._tracking_service.client: 🏃 View run resilient-gull-3 at: http://localhost:5000/#/experiments/1/runs/306a86cb23d8481aae209fb72cbb1c08.\n",
      "2025/01/05 02:40:14 INFO mlflow.tracking._tracking_service.client: 🧪 View experiment at: http://localhost:5000/#/experiments/1.\n",
      "2025/01/05 02:40:22 INFO mlflow.tracking._tracking_service.client: 🏃 View run bold-zebra-624 at: http://localhost:5000/#/experiments/1/runs/03b4b70483724f63b91a9dbdf7d7c14f.\n",
      "2025/01/05 02:40:22 INFO mlflow.tracking._tracking_service.client: 🧪 View experiment at: http://localhost:5000/#/experiments/1.\n",
      "2025/01/05 02:40:29 INFO mlflow.tracking._tracking_service.client: 🏃 View run merciful-moth-743 at: http://localhost:5000/#/experiments/1/runs/f64ac9168f9f459184c308916df3d8a2.\n",
      "2025/01/05 02:40:29 INFO mlflow.tracking._tracking_service.client: 🧪 View experiment at: http://localhost:5000/#/experiments/1.\n",
      "2025/01/05 02:40:36 INFO mlflow.tracking._tracking_service.client: 🏃 View run nosy-ray-557 at: http://localhost:5000/#/experiments/1/runs/0ca4be5808784ab98daf31593cc94575.\n",
      "2025/01/05 02:40:36 INFO mlflow.tracking._tracking_service.client: 🧪 View experiment at: http://localhost:5000/#/experiments/1.\n"
     ]
    }
   ],
   "source": [
    "for col_name in cols_tracked:\n",
    "    X_train, X_test = load_splits_from_parquet(\n",
    "        X_train_full, X_test_full, cols=[col_name], path=PATH_PARQUET\n",
    "    )\n",
    "    mlflow.sklearn.autolog()\n",
    "    with mlflow.start_run() as active_run:\n",
    "        # create a pipeline with Tf-Idf and Logistic Regression\n",
    "        model = create_ml_model(\n",
    "            col_name,\n",
    "            TfidfVectorizer(\n",
    "                ngram_range=(1, 1),\n",
    "                min_df=5,\n",
    "                strip_accents=\"unicode\",\n",
    "                stop_words=\"english\",\n",
    "            ),\n",
    "            LogisticRegression(max_iter=1000),\n",
    "        )\n",
    "        # Fit the model\n",
    "        model.fit(X_train, y_train)\n",
    "        # Predict the target\n",
    "        accuracy = model.score(X_test, y_test)\n",
    "        y_pred = model.predict(X_test)\n",
    "        mlflow.log_param(\"data_preparation\", col_name)"
   ]
  },
  {
   "cell_type": "code",
   "execution_count": 27,
   "metadata": {},
   "outputs": [
    {
     "name": "stderr",
     "output_type": "stream",
     "text": [
      "2025/01/05 02:40:43 INFO mlflow.tracking._tracking_service.client: 🏃 View run gregarious-sheep-326 at: http://localhost:5000/#/experiments/1/runs/2a5e41c0d7b14d5dbc9054c52c4b1d0e.\n",
      "2025/01/05 02:40:43 INFO mlflow.tracking._tracking_service.client: 🧪 View experiment at: http://localhost:5000/#/experiments/1.\n",
      "2025/01/05 02:40:52 INFO mlflow.tracking._tracking_service.client: 🏃 View run upbeat-shrike-991 at: http://localhost:5000/#/experiments/1/runs/401f8a3f9bc64bff82f9aaeebc1c7b28.\n",
      "2025/01/05 02:40:52 INFO mlflow.tracking._tracking_service.client: 🧪 View experiment at: http://localhost:5000/#/experiments/1.\n",
      "2025/01/05 02:41:00 INFO mlflow.tracking._tracking_service.client: 🏃 View run bright-sloth-437 at: http://localhost:5000/#/experiments/1/runs/347eee717b484d0f92ce1d61d102281d.\n",
      "2025/01/05 02:41:00 INFO mlflow.tracking._tracking_service.client: 🧪 View experiment at: http://localhost:5000/#/experiments/1.\n",
      "2025/01/05 02:41:09 INFO mlflow.tracking._tracking_service.client: 🏃 View run mercurial-bass-442 at: http://localhost:5000/#/experiments/1/runs/e8110d2d0f0e4b2a8d3faff82a8677a3.\n",
      "2025/01/05 02:41:09 INFO mlflow.tracking._tracking_service.client: 🧪 View experiment at: http://localhost:5000/#/experiments/1.\n",
      "2025/01/05 02:41:16 INFO mlflow.tracking._tracking_service.client: 🏃 View run clean-bat-35 at: http://localhost:5000/#/experiments/1/runs/82ded28e5ebd40158e04e7314b5a64ca.\n",
      "2025/01/05 02:41:16 INFO mlflow.tracking._tracking_service.client: 🧪 View experiment at: http://localhost:5000/#/experiments/1.\n",
      "2025/01/05 02:41:24 INFO mlflow.tracking._tracking_service.client: 🏃 View run selective-midge-829 at: http://localhost:5000/#/experiments/1/runs/9c13a0a631c5467e8a8255f71d9e0322.\n",
      "2025/01/05 02:41:24 INFO mlflow.tracking._tracking_service.client: 🧪 View experiment at: http://localhost:5000/#/experiments/1.\n"
     ]
    }
   ],
   "source": [
    "for col_name in cols_tracked:\n",
    "    X_train, X_test = load_splits_from_parquet(\n",
    "        X_train_full, X_test_full, cols=[col_name], path=PATH_PARQUET\n",
    "    )\n",
    "    mlflow.sklearn.autolog()\n",
    "    with mlflow.start_run() as active_run:\n",
    "        # create a pipeline with Tf-Idf and Logistic Regression\n",
    "        model = create_ml_model(\n",
    "            col_name,\n",
    "            TfidfVectorizer(\n",
    "                ngram_range=(1, 3),\n",
    "                min_df=5,\n",
    "                strip_accents=\"unicode\",\n",
    "                stop_words=None,\n",
    "            ),\n",
    "            LogisticRegression(max_iter=1000),\n",
    "        )\n",
    "        # Fit the model\n",
    "        model.fit(X_train, y_train)\n",
    "        # Predict the target\n",
    "        accuracy = model.score(X_test, y_test)\n",
    "        y_pred = model.predict(X_test)\n",
    "        mlflow.log_param(\"data_preparation\", col_name)"
   ]
  },
  {
   "cell_type": "code",
   "execution_count": 28,
   "metadata": {},
   "outputs": [
    {
     "name": "stderr",
     "output_type": "stream",
     "text": [
      "2025/01/05 02:41:32 INFO mlflow.tracking._tracking_service.client: 🏃 View run resilient-seal-220 at: http://localhost:5000/#/experiments/1/runs/c8e16fccd17e4abdaffa72bc78443160.\n",
      "2025/01/05 02:41:32 INFO mlflow.tracking._tracking_service.client: 🧪 View experiment at: http://localhost:5000/#/experiments/1.\n",
      "2025/01/05 02:41:41 INFO mlflow.tracking._tracking_service.client: 🏃 View run intrigued-hound-420 at: http://localhost:5000/#/experiments/1/runs/0f5a7768218c418ba6b506b4c8d2472d.\n",
      "2025/01/05 02:41:41 INFO mlflow.tracking._tracking_service.client: 🧪 View experiment at: http://localhost:5000/#/experiments/1.\n",
      "2025/01/05 02:41:47 INFO mlflow.tracking._tracking_service.client: 🏃 View run rogue-cub-483 at: http://localhost:5000/#/experiments/1/runs/71f56ba689704a20b3bc7013b4e2640d.\n",
      "2025/01/05 02:41:47 INFO mlflow.tracking._tracking_service.client: 🧪 View experiment at: http://localhost:5000/#/experiments/1.\n",
      "2025/01/05 02:41:55 INFO mlflow.tracking._tracking_service.client: 🏃 View run dazzling-frog-912 at: http://localhost:5000/#/experiments/1/runs/2d8d6079a0b4443fb686d09709e0ba57.\n",
      "2025/01/05 02:41:55 INFO mlflow.tracking._tracking_service.client: 🧪 View experiment at: http://localhost:5000/#/experiments/1.\n",
      "2025/01/05 02:42:03 INFO mlflow.tracking._tracking_service.client: 🏃 View run brawny-mule-272 at: http://localhost:5000/#/experiments/1/runs/6aab78abad994f4d959cf0dcaa429b09.\n",
      "2025/01/05 02:42:03 INFO mlflow.tracking._tracking_service.client: 🧪 View experiment at: http://localhost:5000/#/experiments/1.\n",
      "2025/01/05 02:42:11 INFO mlflow.tracking._tracking_service.client: 🏃 View run marvelous-loon-272 at: http://localhost:5000/#/experiments/1/runs/e875a9defc1f47baa48637eb198639d1.\n",
      "2025/01/05 02:42:11 INFO mlflow.tracking._tracking_service.client: 🧪 View experiment at: http://localhost:5000/#/experiments/1.\n"
     ]
    }
   ],
   "source": [
    "for col_name in cols_tracked:\n",
    "    X_train, X_test = load_splits_from_parquet(\n",
    "        X_train_full, X_test_full, cols=[col_name], path=PATH_PARQUET\n",
    "    )\n",
    "    mlflow.sklearn.autolog()\n",
    "    with mlflow.start_run() as active_run:\n",
    "        # create a pipeline with Tf-Idf and Logistic Regression\n",
    "        model = create_ml_model(\n",
    "            col_name,\n",
    "            TfidfVectorizer(\n",
    "                ngram_range=(1, 3),\n",
    "                min_df=5,\n",
    "                strip_accents=\"unicode\",\n",
    "                stop_words=\"english\",\n",
    "            ),\n",
    "            LogisticRegression(max_iter=1000),\n",
    "        )\n",
    "        # Fit the model\n",
    "        model.fit(X_train, y_train)\n",
    "        # Predict the target\n",
    "        accuracy = model.score(X_test, y_test)\n",
    "        y_pred = model.predict(X_test)\n",
    "        mlflow.log_param(\"data_preparation\", col_name)"
   ]
  },
  {
   "cell_type": "markdown",
   "metadata": {},
   "source": [
    "# **Séparation des données**"
   ]
  },
  {
   "cell_type": "code",
   "execution_count": 14,
   "metadata": {},
   "outputs": [
    {
     "data": {
      "text/plain": [
       "(         hour_cos  hour_sin\n",
       " 0        0.866025 -0.500000\n",
       " 1        0.866025 -0.500000\n",
       " 2        0.866025 -0.500000\n",
       " 3        0.866025 -0.500000\n",
       " 4        0.866025 -0.500000\n",
       " ...           ...       ...\n",
       " 1599995 -0.500000  0.866025\n",
       " 1599996 -0.500000  0.866025\n",
       " 1599997 -0.500000  0.866025\n",
       " 1599998 -0.500000  0.866025\n",
       " 1599999 -0.500000  0.866025\n",
       " \n",
       " [1596630 rows x 2 columns],\n",
       "          hour_cos  hour_sin                                               text\n",
       " 0        0.866025 -0.500000  @switchfoot http://twitpic.com/2y1zl - Awww, t...\n",
       " 1        0.866025 -0.500000  is upset that he can't update his Facebook by ...\n",
       " 2        0.866025 -0.500000  @Kenichan I dived many times for the ball. Man...\n",
       " 3             NaN       NaN                                                NaN\n",
       " 4        0.866025 -0.500000  @nationwideclass no, it's not behaving at all....\n",
       " ...           ...       ...                                                ...\n",
       " 1599995       NaN       NaN                                                NaN\n",
       " 1599996 -0.500000  0.866025  TheWDB.com - Very cool to hear old Walt interv...\n",
       " 1599997 -0.500000  0.866025  Are you ready for your MoJo Makeover? Ask me f...\n",
       " 1599998 -0.500000  0.866025  Happy 38th Birthday to my boo of alll time!!! ...\n",
       " 1599999 -0.500000  0.866025  happy #charitytuesday @theNSPCC @SparksCharity...\n",
       " \n",
       " [1596630 rows x 3 columns])"
      ]
     },
     "execution_count": 14,
     "metadata": {},
     "output_type": "execute_result"
    }
   ],
   "source": [
    "df.filter([\"hour_cos\", \"hour_sin\"]).align(X_train, axis=0)"
   ]
  }
 ],
 "metadata": {
  "kernelspec": {
   "display_name": "p7",
   "language": "python",
   "name": "python3"
  },
  "language_info": {
   "codemirror_mode": {
    "name": "ipython",
    "version": 3
   },
   "file_extension": ".py",
   "mimetype": "text/x-python",
   "name": "python",
   "nbconvert_exporter": "python",
   "pygments_lexer": "ipython3",
   "version": "3.10.15"
  }
 },
 "nbformat": 4,
 "nbformat_minor": 2
}
