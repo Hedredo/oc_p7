{
 "cells": [
  {
   "cell_type": "code",
   "execution_count": 63,
   "metadata": {},
   "outputs": [
    {
     "name": "stdout",
     "output_type": "stream",
     "text": [
      "8000\n"
     ]
    }
   ],
   "source": [
    "import os\n",
    "\n",
    "port = os.environ.get(\"PORT\", \"8000\")\n",
    "print(port)"
   ]
  },
  {
   "cell_type": "code",
   "execution_count": 64,
   "metadata": {},
   "outputs": [
    {
     "name": "stderr",
     "output_type": "stream",
     "text": [
      "2024-12-18 16:29:28.410 Thread 'MainThread': missing ScriptRunContext! This warning can be ignored when running in bare mode.\n",
      "2024-12-18 16:29:28.412 Thread 'MainThread': missing ScriptRunContext! This warning can be ignored when running in bare mode.\n",
      "2024-12-18 16:29:28.412 Thread 'MainThread': missing ScriptRunContext! This warning can be ignored when running in bare mode.\n",
      "2024-12-18 16:29:28.413 Thread 'MainThread': missing ScriptRunContext! This warning can be ignored when running in bare mode.\n",
      "2024-12-18 16:29:28.413 Thread 'MainThread': missing ScriptRunContext! This warning can be ignored when running in bare mode.\n",
      "2024-12-18 16:29:28.413 Thread 'MainThread': missing ScriptRunContext! This warning can be ignored when running in bare mode.\n",
      "2024-12-18 16:29:28.414 Thread 'MainThread': missing ScriptRunContext! This warning can be ignored when running in bare mode.\n",
      "2024-12-18 16:29:28.414 Thread 'MainThread': missing ScriptRunContext! This warning can be ignored when running in bare mode.\n",
      "2024-12-18 16:29:28.415 Thread 'MainThread': missing ScriptRunContext! This warning can be ignored when running in bare mode.\n",
      "2024-12-18 16:29:28.415 Thread 'MainThread': missing ScriptRunContext! This warning can be ignored when running in bare mode.\n",
      "2024-12-18 16:29:28.415 Thread 'MainThread': missing ScriptRunContext! This warning can be ignored when running in bare mode.\n",
      "2024-12-18 16:29:28.416 Thread 'MainThread': missing ScriptRunContext! This warning can be ignored when running in bare mode.\n",
      "2024-12-18 16:29:28.416 Thread 'MainThread': missing ScriptRunContext! This warning can be ignored when running in bare mode.\n"
     ]
    }
   ],
   "source": [
    "import streamlit as st\n",
    "import requests\n",
    "import time\n",
    "\n",
    "st.title(\"Sentiment Analysis Service\")\n",
    "text = st.text_input(\"Enter text\")\n",
    "\n",
    "if st.button(\"Predict the sentiment\"):\n",
    "    url = f\"http://localhost:{port}/predict\"\n",
    "    data = {\"text\": text}\n",
    "    response = requests.post(url, json=data)\n",
    "\n",
    "    if response.status_code != 200:\n",
    "        st.error(\n",
    "            \"Error occurred during prediction. Please verify your input as a text and try again.\"\n",
    "        )\n",
    "\n",
    "    else:\n",
    "        prediction = response.json()[\"sentiment\"]\n",
    "        # Display the result\n",
    "        st.write(f\"Text entered: {text}\")\n",
    "        st.write(\"Model computing the sentiment of the text...\")\n",
    "        time.sleep(1)\n",
    "        # Display the result\n",
    "        st.success(f\"Sentiment predicted: {prediction}\")"
   ]
  },
  {
   "cell_type": "code",
   "execution_count": 56,
   "metadata": {},
   "outputs": [],
   "source": [
    "from typing import Union\n",
    "from pydantic import BaseModel\n",
    "from fastapi import FastAPI\n",
    "from model import predict_sentiment\n",
    "\n",
    "app = FastAPI()\n",
    "\n",
    "\n",
    "# Create a Pydantic model to validate the request body\n",
    "class TextData(BaseModel):\n",
    "    text: str\n",
    "\n",
    "\n",
    "# Define a GET endpoint for the root URL\n",
    "@app.get(\"/\")\n",
    "def read_root() -> Union[dict, str]:\n",
    "    return {\"message\": \"Welcome to the Sentiment Analysis API!\"}\n",
    "\n",
    "\n",
    "@app.post(\"/predict\")\n",
    "def predict(data: TextData) -> dict:\n",
    "    text = data.text\n",
    "    sentiment = predict_sentiment(text)\n",
    "    return {\"sentiment\": sentiment}"
   ]
  },
  {
   "cell_type": "code",
   "execution_count": 61,
   "metadata": {},
   "outputs": [],
   "source": [
    "import re\n",
    "\n",
    "pos_pattern = r\"good|happy|nice|excellent|positive|fortunate|correct|superior|great|positive|superb|wonderful|awesome|fantastic|terrific|amazing|incredible|fabulous|marvelous|excellent|outstanding|exceptional|perfect|pleasing|delightful|pleasurable|satisfying|acceptable|agreeable|enjoyable|favorable|good|gratifying|great|pleasing|positive\"\n",
    "# Compile the regular expression pattern into a regular expression object\n",
    "pos_re = re.compile(pos_pattern, re.IGNORECASE)\n",
    "neg_pattern = r\"bad|unhappy|horrible|negative|unfortunate|wrong|inferior|poor|negative|dreadful|terrible|awful|atrocious|abysmal|appalling|dreadful|lousy|unsatisfactory|unacceptable|disagreeable|displeasing|unfavorable|unpleasant|bad|disgusting|distasteful|foul|gross|nasty|nauseating|obnoxious|offensive|repellent|repulsive|revolting|vile|wretched|bad|disagree\"\n",
    "neg_re = re.compile(neg_pattern, re.IGNORECASE)\n",
    "\n",
    "\n",
    "def predict_sentiment(text: str) -> str:\n",
    "    # Count the number of positive and negative words in the input\n",
    "    pos_count = len(pos_re.findall(text))\n",
    "    neg_count = len(re.findall(neg_re, text))\n",
    "    # Compute the sentiment score\n",
    "    sentiment_score = pos_count - neg_count\n",
    "    # Match the sentiment score to a sentiment category\n",
    "    if sentiment_score > 0:\n",
    "        label = \"positive\"\n",
    "    elif sentiment_score < 0:\n",
    "        label = \"negative\"\n",
    "    else:\n",
    "        label = \"neutral\"\n",
    "    return label"
   ]
  },
  {
   "cell_type": "code",
   "execution_count": 32,
   "metadata": {},
   "outputs": [],
   "source": [
    "text = \"I am very happy with the service. It was excellent.\""
   ]
  },
  {
   "cell_type": "code",
   "execution_count": 41,
   "metadata": {},
   "outputs": [],
   "source": [
    "text = 1"
   ]
  },
  {
   "cell_type": "code",
   "execution_count": 42,
   "metadata": {},
   "outputs": [
    {
     "ename": "TypeError",
     "evalue": "expected string or bytes-like object",
     "output_type": "error",
     "traceback": [
      "\u001b[0;31m---------------------------------------------------------------------------\u001b[0m",
      "\u001b[0;31mTypeError\u001b[0m                                 Traceback (most recent call last)",
      "Cell \u001b[0;32mIn[42], line 1\u001b[0m\n\u001b[0;32m----> 1\u001b[0m \u001b[43mpredict_sentiment\u001b[49m\u001b[43m(\u001b[49m\u001b[43mtext\u001b[49m\u001b[43m)\u001b[49m\n",
      "Cell \u001b[0;32mIn[31], line 3\u001b[0m, in \u001b[0;36mpredict_sentiment\u001b[0;34m(text)\u001b[0m\n\u001b[1;32m      1\u001b[0m \u001b[38;5;28;01mdef\u001b[39;00m \u001b[38;5;21mpredict_sentiment\u001b[39m(text):\n\u001b[1;32m      2\u001b[0m     \u001b[38;5;66;03m# Count the number of positive and negative words in the input\u001b[39;00m\n\u001b[0;32m----> 3\u001b[0m     pos_count \u001b[38;5;241m=\u001b[39m \u001b[38;5;28mlen\u001b[39m(\u001b[43mpos_re\u001b[49m\u001b[38;5;241;43m.\u001b[39;49m\u001b[43mfindall\u001b[49m\u001b[43m(\u001b[49m\u001b[43mtext\u001b[49m\u001b[43m)\u001b[49m)\n\u001b[1;32m      4\u001b[0m     neg_count \u001b[38;5;241m=\u001b[39m \u001b[38;5;28mlen\u001b[39m(re\u001b[38;5;241m.\u001b[39mfindall(neg_re, text))\n\u001b[1;32m      5\u001b[0m     \u001b[38;5;66;03m# Compute the sentiment score\u001b[39;00m\n",
      "\u001b[0;31mTypeError\u001b[0m: expected string or bytes-like object"
     ]
    }
   ],
   "source": [
    "predict_sentiment(text)"
   ]
  }
 ],
 "metadata": {
  "kernelspec": {
   "display_name": "light_p7",
   "language": "python",
   "name": "python3"
  },
  "language_info": {
   "codemirror_mode": {
    "name": "ipython",
    "version": 3
   },
   "file_extension": ".py",
   "mimetype": "text/x-python",
   "name": "python",
   "nbconvert_exporter": "python",
   "pygments_lexer": "ipython3",
   "version": "3.10.16"
  }
 },
 "nbformat": 4,
 "nbformat_minor": 2
}
