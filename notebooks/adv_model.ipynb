{
 "cells": [
  {
   "cell_type": "code",
   "execution_count": 1,
   "metadata": {},
   "outputs": [
    {
     "name": "stderr",
     "output_type": "stream",
     "text": [
      "2025-01-13 15:06:44.601500: I tensorflow/core/platform/cpu_feature_guard.cc:193] This TensorFlow binary is optimized with oneAPI Deep Neural Network Library (oneDNN) to use the following CPU instructions in performance-critical operations:  SSE4.1 SSE4.2 AVX AVX2 FMA\n",
      "To enable them in other operations, rebuild TensorFlow with the appropriate compiler flags.\n",
      "/home/hedredo/miniconda310/envs/p7_tf_cpu/lib/python3.10/site-packages/transformers/utils/generic.py:260: UserWarning: torch.utils._pytree._register_pytree_node is deprecated. Please use torch.utils._pytree.register_pytree_node instead.\n",
      "  torch.utils._pytree._register_pytree_node(\n",
      "/home/hedredo/miniconda310/envs/p7_tf_cpu/lib/python3.10/site-packages/transformers/utils/generic.py:260: UserWarning: torch.utils._pytree._register_pytree_node is deprecated. Please use torch.utils._pytree.register_pytree_node instead.\n",
      "  torch.utils._pytree._register_pytree_node(\n"
     ]
    }
   ],
   "source": [
    "import pandas as pd\n",
    "import tensorflow as tf\n",
    "from transformers import TFBertForSequenceClassification, BertTokenizer\n",
    "from sklearn.model_selection import train_test_split\n",
    "import numpy as np\n",
    "import mlflow\n",
    "import mlflow.tensorflow\n",
    "import pickle\n",
    "import time\n",
    "import dl\n",
    "import utils\n",
    "import matplotlib.pyplot as plt\n",
    "from sklearn.metrics import classification_report, ConfusionMatrixDisplay"
   ]
  },
  {
   "cell_type": "markdown",
   "metadata": {},
   "source": [
    "## BERT: Bidirectional Encoder Representations from Transformers"
   ]
  },
  {
   "cell_type": "markdown",
   "metadata": {},
   "source": [
    "## Fonctions de transformation pour BERT"
   ]
  },
  {
   "cell_type": "code",
   "execution_count": 2,
   "metadata": {},
   "outputs": [],
   "source": [
    "# Tokenisation et encodage des textes en un format compatible avec BERT\n",
    "def tokenize_texts(\n",
    "    texts, tokenizer, max_length=128\n",
    "):  # Laisson la taille comme le Tokenizer de BERT a une méthode de tokenisation spécifique\n",
    "    return tokenizer(\n",
    "        texts,\n",
    "        padding=\"max_length\",\n",
    "        truncation=True,\n",
    "        max_length=max_length,\n",
    "        return_tensors=\"tf\",\n",
    "    )"
   ]
  },
  {
   "cell_type": "code",
   "execution_count": 3,
   "metadata": {},
   "outputs": [],
   "source": [
    "def transform_data_for_bert(X, y, col_name, tokenizer):\n",
    "    # Convertir les données en liste\n",
    "    texts = (\n",
    "        X[col_name].str.lower().tolist()\n",
    "    )  # S'assure que les données sont en minimuscules\n",
    "    labels = y.tolist()\n",
    "\n",
    "    # Stocker les transformations avec l'encoder\n",
    "    input_ids = []\n",
    "    attention_masks = []\n",
    "    for text in texts:\n",
    "        encoded = tokenize_texts([text], tokenizer)\n",
    "        input_ids.append(encoded[\"input_ids\"])\n",
    "        attention_masks.append(encoded[\"attention_mask\"])\n",
    "    input_ids = np.asarray(input_ids)\n",
    "    attention_masks = np.asarray(attention_masks)\n",
    "    labels = np.array(labels)\n",
    "\n",
    "    # Retourner les données\n",
    "    return input_ids, attention_masks, labels"
   ]
  },
  {
   "cell_type": "markdown",
   "metadata": {},
   "source": [
    "## Run avec le text uniquement en lowercase"
   ]
  },
  {
   "cell_type": "code",
   "execution_count": 4,
   "metadata": {},
   "outputs": [],
   "source": [
    "# Load the pickle file containing the columns\n",
    "with open(\"../data/processed/train_columns.pkl\", \"rb\") as f:\n",
    "    cols = pickle.load(f)\n",
    "\n",
    "# Load the parquet file\n",
    "X_train_full = pd.read_pickle(\"../data/processed/X_train.pickle\")\n",
    "X_test_full = pd.read_pickle(\"../data/processed/X_test.pickle\")\n",
    "y_train = pd.read_pickle(\"../data/processed/y_train.pickle\")\n",
    "y_test = pd.read_pickle(\"../data/processed/y_test.pickle\")\n",
    "\n",
    "\n",
    "# Set fixed variables\n",
    "SEED = 314\n",
    "np.random.seed(SEED)\n",
    "URI = \"http://localhost:5000\""
   ]
  },
  {
   "cell_type": "code",
   "execution_count": 7,
   "metadata": {},
   "outputs": [
    {
     "name": "stderr",
     "output_type": "stream",
     "text": [
      "/home/hedredo/miniconda310/envs/p7_tf_cpu/lib/python3.10/site-packages/huggingface_hub/file_download.py:1150: FutureWarning: `resume_download` is deprecated and will be removed in version 1.0.0. Downloads always resume when possible. If you want to force a new download, use `force_download=True`.\n",
      "  warnings.warn(\n",
      "2025-01-13 15:07:10.807378: I tensorflow/core/platform/cpu_feature_guard.cc:193] This TensorFlow binary is optimized with oneAPI Deep Neural Network Library (oneDNN) to use the following CPU instructions in performance-critical operations:  SSE4.1 SSE4.2 AVX AVX2 FMA\n",
      "To enable them in other operations, rebuild TensorFlow with the appropriate compiler flags.\n",
      "2025-01-13 15:07:10.808957: I tensorflow/core/common_runtime/process_util.cc:146] Creating new thread pool with default inter op setting: 2. Tune using inter_op_parallelism_threads for best performance.\n",
      "All PyTorch model weights were used when initializing TFBertForSequenceClassification.\n",
      "\n",
      "Some weights or buffers of the TF 2.0 model TFBertForSequenceClassification were not initialized from the PyTorch model and are newly initialized: ['classifier.weight', 'classifier.bias']\n",
      "You should probably TRAIN this model on a down-stream task to be able to use it for predictions and inference.\n",
      "2025/01/13 15:07:19 WARNING mlflow.tensorflow: Encountered unexpected error while inferring batch size from training dataset: The layer \"tf_bert_for_sequence_classification\" has never been called and thus has no defined input shape. Note that the `input_shape` property is only available for Functional and Sequential models.\n"
     ]
    },
    {
     "name": "stdout",
     "output_type": "stream",
     "text": [
      "(19036, 1, 128) (4759, 1, 128) (19036,) (4759,) (19036, 1, 128) (4759, 1, 128)\n"
     ]
    },
    {
     "name": "stderr",
     "output_type": "stream",
     "text": [
      "2025/01/13 15:07:19 WARNING mlflow.data.tensorflow_dataset: Failed to infer schema for TensorFlow dataset. Exception: Failed to infer schema for tf.data.Dataset. Schemas can only be inferred if the dataset consists of tensors. Ragged tensors, tensor arrays, and other types are not supported. Additionally, datasets with nested tensors are not supported.\n",
      "2025/01/13 15:07:19 WARNING mlflow.data.tensorflow_dataset: Failed to infer schema for TensorFlow dataset. Exception: Failed to infer schema for tf.data.Dataset. Schemas can only be inferred if the dataset consists of tensors. Ragged tensors, tensor arrays, and other types are not supported. Additionally, datasets with nested tensors are not supported.\n"
     ]
    },
    {
     "name": "stdout",
     "output_type": "stream",
     "text": [
      "Epoch 1/3\n",
      "744/744 [==============================] - 5363s 7s/step - loss: 0.4292 - accuracy: 0.8047 - val_loss: 0.2869 - val_accuracy: 0.9021\n",
      "Epoch 2/3\n",
      "744/744 [==============================] - 5364s 7s/step - loss: 0.2689 - accuracy: 0.8965 - val_loss: 0.1472 - val_accuracy: 0.9498\n",
      "Epoch 3/3\n",
      "744/744 [==============================] - 5254s 7s/step - loss: 0.1572 - accuracy: 0.9434 - val_loss: 0.0971 - val_accuracy: 0.9721\n",
      "1/1 [==============================] - 2s 2s/step\n"
     ]
    },
    {
     "name": "stderr",
     "output_type": "stream",
     "text": [
      "2025/01/13 19:33:44 WARNING mlflow.tensorflow: Failed to infer model signature: 'TFSequenceClassifierOutput' object has no attribute '__name__'\n",
      "2025/01/13 19:33:44 WARNING mlflow.tensorflow: You are saving a TensorFlow Core model or Keras model without a signature. Inference with mlflow.pyfunc.spark_udf() will not work unless the model's pyfunc representation accepts pandas DataFrames as inference inputs.\n",
      "WARNING:absl:Found untraced functions such as serving, embeddings_layer_call_fn, embeddings_layer_call_and_return_conditional_losses, encoder_layer_call_fn, encoder_layer_call_and_return_conditional_losses while saving (showing 5 of 421). These functions will not be directly callable after loading.\n"
     ]
    },
    {
     "name": "stdout",
     "output_type": "stream",
     "text": [
      "INFO:tensorflow:Assets written to: /tmp/tmpqboiti37/model/data/model/assets\n"
     ]
    },
    {
     "name": "stderr",
     "output_type": "stream",
     "text": [
      "INFO:tensorflow:Assets written to: /tmp/tmpqboiti37/model/data/model/assets\n",
      "2025/01/13 19:34:17 WARNING mlflow.models.model: Model logged without a signature and input example. Please set `input_example` parameter when logging the model to auto infer the model signature.\n"
     ]
    },
    {
     "name": "stdout",
     "output_type": "stream",
     "text": [
      "Evaluate on validation data\n",
      "==============\n",
      "186/186 [==============================] - 471s 3s/step - loss: 0.5036 - accuracy: 0.8301\n",
      "186/186 [==============================] - 467s 2s/step\n"
     ]
    },
    {
     "data": {
      "text/html": [
       "<div>\n",
       "<style scoped>\n",
       "    .dataframe tbody tr th:only-of-type {\n",
       "        vertical-align: middle;\n",
       "    }\n",
       "\n",
       "    .dataframe tbody tr th {\n",
       "        vertical-align: top;\n",
       "    }\n",
       "\n",
       "    .dataframe thead th {\n",
       "        text-align: right;\n",
       "    }\n",
       "</style>\n",
       "<table border=\"1\" class=\"dataframe\">\n",
       "  <thead>\n",
       "    <tr style=\"text-align: right;\">\n",
       "      <th></th>\n",
       "      <th>negative</th>\n",
       "      <th>positive</th>\n",
       "      <th>macro avg</th>\n",
       "    </tr>\n",
       "  </thead>\n",
       "  <tbody>\n",
       "    <tr>\n",
       "      <th>precision</th>\n",
       "      <td>0.808777</td>\n",
       "      <td>0.854657</td>\n",
       "      <td>0.831717</td>\n",
       "    </tr>\n",
       "    <tr>\n",
       "      <th>recall</th>\n",
       "      <td>0.865481</td>\n",
       "      <td>0.794474</td>\n",
       "      <td>0.829978</td>\n",
       "    </tr>\n",
       "    <tr>\n",
       "      <th>f1-score</th>\n",
       "      <td>0.836169</td>\n",
       "      <td>0.823468</td>\n",
       "      <td>0.829818</td>\n",
       "    </tr>\n",
       "    <tr>\n",
       "      <th>support</th>\n",
       "      <td>2981.000000</td>\n",
       "      <td>2968.000000</td>\n",
       "      <td>5949.000000</td>\n",
       "    </tr>\n",
       "  </tbody>\n",
       "</table>\n",
       "</div>"
      ],
      "text/plain": [
       "              negative     positive    macro avg\n",
       "precision     0.808777     0.854657     0.831717\n",
       "recall        0.865481     0.794474     0.829978\n",
       "f1-score      0.836169     0.823468     0.829818\n",
       "support    2981.000000  2968.000000  5949.000000"
      ]
     },
     "metadata": {},
     "output_type": "display_data"
    },
    {
     "data": {
      "image/png": "[encoded data removed]",
      "text/plain": [
       "<Figure size 640x480 with 2 Axes>"
      ]
     },
     "metadata": {},
     "output_type": "display_data"
    },
    {
     "data": {
      "image/png": "[encoded data removed]",
      "text/plain": [
       "<Figure size 640x480 with 1 Axes>"
      ]
     },
     "metadata": {},
     "output_type": "display_data"
    },
    {
     "name": "stdout",
     "output_type": "stream",
     "text": [
      "🏃 View run bert_sentiment_classification_raw_text at: http://localhost:5000/#/experiments/15/runs/36de1cc4b008489d97ed41d88f485174\n",
      "🧪 View experiment at: http://localhost:5000/#/experiments/15\n"
     ]
    }
   ],
   "source": [
    "# Define the URI of the MLflow server and the name of the experiment & check if the prepared dataset is in the columns\n",
    "experiment = \"p7_bert_model\"\n",
    "\n",
    "# Set the tracking URI\n",
    "mlflow.set_tracking_uri(URI)\n",
    "# try to connect to the server\n",
    "try:\n",
    "    mlflow.tracking.get_tracking_uri()\n",
    "except Exception as e:\n",
    "    print(f\"Cannot connect to the server : {URI}. Check the server status.\")\n",
    "    raise e\n",
    "# Set, and create if necessary, the experiment\n",
    "try:\n",
    "    mlflow.create_experiment(experiment)\n",
    "except Exception:\n",
    "    pass\n",
    "finally:\n",
    "    mlflow.set_experiment(experiment)\n",
    "\n",
    "\n",
    "# Charger le tokenizer et le modèle BERT pour la classification\n",
    "model_name = \"bert-base-uncased\"\n",
    "tokenizer = BertTokenizer.from_pretrained(model_name)\n",
    "model = TFBertForSequenceClassification.from_pretrained(model_name, num_labels=2)\n",
    "col_name = \"text\"\n",
    "\n",
    "# Encode le train et le test\n",
    "train_full_input_ids, train_full_attention_masks, train_full_labels = (\n",
    "    transform_data_for_bert(X_train_full, y_train, col_name, tokenizer)\n",
    ")\n",
    "\n",
    "test_input_ids, test_attention_masks, test_labels = transform_data_for_bert(\n",
    "    X_test_full, y_test, col_name, tokenizer\n",
    ")\n",
    "\n",
    "# Vérifie les tailles\n",
    "len(train_full_input_ids), len(train_full_attention_masks), len(train_full_labels)\n",
    "# Séparer les ensembles de données\n",
    "train_input_ids, val_input_ids, train_labels, val_labels, train_masks, val_masks = (\n",
    "    train_test_split(\n",
    "        train_full_input_ids,\n",
    "        train_full_labels,\n",
    "        train_full_attention_masks,\n",
    "        test_size=0.2,\n",
    "        random_state=314,\n",
    "    )\n",
    ")\n",
    "# Vérifier les formes\n",
    "print(\n",
    "    train_input_ids.shape,\n",
    "    val_input_ids.shape,\n",
    "    train_labels.shape,\n",
    "    val_labels.shape,\n",
    "    train_masks.shape,\n",
    "    val_masks.shape,\n",
    ")\n",
    "\n",
    "# Batch size\n",
    "batch_size = 32\n",
    "# Prépare les datasets\n",
    "train_dataset = tf.data.Dataset.from_tensor_slices(\n",
    "    (\n",
    "        {\n",
    "            \"input_ids\": train_full_input_ids.squeeze(),\n",
    "            \"attention_mask\": train_full_attention_masks.squeeze(),\n",
    "        },\n",
    "        train_full_labels,\n",
    "    )\n",
    ").batch(batch_size)\n",
    "val_dataset = tf.data.Dataset.from_tensor_slices(\n",
    "    (\n",
    "        {\n",
    "            \"input_ids\": val_input_ids.squeeze(),\n",
    "            \"attention_mask\": val_masks.squeeze(),\n",
    "        },\n",
    "        val_labels,\n",
    "    )\n",
    ").batch(batch_size)\n",
    "test_dataset = tf.data.Dataset.from_tensor_slices(\n",
    "    (\n",
    "        {\n",
    "            \"input_ids\": test_input_ids.squeeze(),\n",
    "            \"attention_mask\": test_attention_masks.squeeze(),\n",
    "        },\n",
    "        test_labels,\n",
    "    )\n",
    ").batch(batch_size)\n",
    "\n",
    "# Compile le modèle\n",
    "loss = tf.keras.losses.SparseCategoricalCrossentropy(from_logits=True)\n",
    "metric = tf.keras.metrics.SparseCategoricalAccuracy(\"accuracy\")\n",
    "optimizer = tf.keras.optimizers.Adam(learning_rate=5e-5, epsilon=1e-08)\n",
    "model.compile(optimizer=optimizer, loss=loss, metrics=[metric])\n",
    "\n",
    "# Entraînement du modèle\n",
    "epochs = 3\n",
    "\n",
    "# Start the MLflow run & autolog\n",
    "mlflow.tensorflow.autolog(checkpoint=False, log_models=True, log_datasets=True)\n",
    "with mlflow.start_run(run_name=\"bert_sentiment_classification_raw_text\") as active_run:\n",
    "    # Entraine le modèle\n",
    "    history = model.fit(\n",
    "        train_dataset,\n",
    "        validation_data=val_dataset,\n",
    "        epochs=epochs,\n",
    "    )\n",
    "\n",
    "    # Evaluate the model\n",
    "    print(\"Evaluate on validation data\")\n",
    "    print(\"==============\")\n",
    "    start_time = time.time()\n",
    "    loss, accuracy = model.evaluate(test_dataset)\n",
    "    inference_time = time.time() - start_time\n",
    "    y_pred = model.predict([test_input_ids.squeeze(), test_attention_masks.squeeze()])\n",
    "    predictions = np.argmax(y_pred.logits, axis=1)\n",
    "    # Log classification report as artifact on mlflow\n",
    "    report = classification_report(\n",
    "        y_test, predictions, output_dict=True, target_names=[\"negative\", \"positive\"]\n",
    "    )\n",
    "    report_df = pd.DataFrame(report).filter([\"negative\", \"positive\", \"macro avg\"])\n",
    "    display(report_df)\n",
    "    report_df.to_csv(\"classification_report.csv\")\n",
    "    mlflow.log_artifact(\"classification_report.csv\")\n",
    "    # Use ConfustionMatrixDisplay and save it as png as an artifact on mflow\n",
    "    cm = ConfusionMatrixDisplay.from_predictions(\n",
    "        y_test, predictions, display_labels=[\"Negative\", \"Positive\"]\n",
    "    )\n",
    "    cm.figure_.savefig(\"confusion_matrix.png\")\n",
    "    mlflow.log_artifact(\"confusion_matrix.png\")\n",
    "    # Plot the loss and accuracy by epoch\n",
    "    dl.plot_loss(history).figure.savefig(\"loss_by_epoch.png\")\n",
    "    mlflow.log_artifact(\"loss_by_epoch.png\")\n",
    "    plt.show()\n",
    "    # Récupère les métriques avec le meilleur val_loss\n",
    "    best_val_loss = np.array(history.history[\"val_loss\"])\n",
    "    indice_best_val_loss = int(np.argmin(best_val_loss))\n",
    "    mlflow.log_metrics(\n",
    "        {\n",
    "            \"log_loss\": loss,\n",
    "            \"val_loss\": history.history[\"val_loss\"][indice_best_val_loss],\n",
    "            \"accuracy_score\": accuracy,\n",
    "            \"val_accuracy\": history.history[\"val_accuracy\"][indice_best_val_loss],\n",
    "            \"inference_time\": inference_time,\n",
    "        }\n",
    "    )\n",
    "    mlflow.log_params(\n",
    "        {\n",
    "            \"data_preparation\": col_name,\n",
    "            \"learning_rate\": 5e-5,\n",
    "            \"batch_size_\": batch_size,\n",
    "            \"standardization\": \"lowercase\",\n",
    "            \"test_size_ratio\": 0.2,\n",
    "            \"validation_split_\": 0.2,\n",
    "            \"pretrained_weights\": model_name,\n",
    "        }\n",
    "    )\n"
   ]
  },
  {
   "cell_type": "code",
   "execution_count": 9,
   "metadata": {},
   "outputs": [],
   "source": [
    "# Load the pickle file containing the columns\n",
    "with open(\"../data/processed/train_columns.pkl\", \"rb\") as f:\n",
    "    cols = pickle.load(f)\n",
    "\n",
    "# Load the parquet file\n",
    "X_train_full = pd.read_pickle(\"../data/processed/X_train.pickle\")\n",
    "X_train_full[\"text\"] = X_train_full[\"text\"].transform(\n",
    "    lambda x: utils.text_preprocessing(x, remove_punct_and_digits=False)\n",
    ")\n",
    "X_test_full = pd.read_pickle(\"../data/processed/X_test.pickle\")\n",
    "X_test_full[\"text\"] = X_test_full[\"text\"].transform(\n",
    "    lambda x: utils.text_preprocessing(x, remove_punct_and_digits=False)\n",
    ")\n",
    "y_train = pd.read_pickle(\"../data/processed/y_train.pickle\")\n",
    "y_test = pd.read_pickle(\"../data/processed/y_test.pickle\")\n",
    "\n",
    "# Set fixed variables\n",
    "SEED = 314\n",
    "np.random.seed(SEED)\n",
    "URI = \"http://localhost:5000\""
   ]
  },
  {
   "cell_type": "code",
   "execution_count": null,
   "metadata": {},
   "outputs": [
    {
     "name": "stderr",
     "output_type": "stream",
     "text": [
      "/home/hedredo/miniconda310/envs/p7_tf_cpu/lib/python3.10/site-packages/huggingface_hub/file_download.py:1150: FutureWarning: `resume_download` is deprecated and will be removed in version 1.0.0. Downloads always resume when possible. If you want to force a new download, use `force_download=True`.\n",
      "  warnings.warn(\n",
      "2025-01-13 13:33:00.192976: I tensorflow/core/platform/cpu_feature_guard.cc:193] This TensorFlow binary is optimized with oneAPI Deep Neural Network Library (oneDNN) to use the following CPU instructions in performance-critical operations:  SSE4.1 SSE4.2 AVX AVX2 FMA\n",
      "To enable them in other operations, rebuild TensorFlow with the appropriate compiler flags.\n",
      "2025-01-13 13:33:00.194427: I tensorflow/core/common_runtime/process_util.cc:146] Creating new thread pool with default inter op setting: 2. Tune using inter_op_parallelism_threads for best performance.\n",
      "All PyTorch model weights were used when initializing TFBertForSequenceClassification.\n",
      "\n",
      "Some weights or buffers of the TF 2.0 model TFBertForSequenceClassification were not initialized from the PyTorch model and are newly initialized: ['classifier.weight', 'classifier.bias']\n",
      "You should probably TRAIN this model on a down-stream task to be able to use it for predictions and inference.\n",
      "2025/01/13 13:33:01 WARNING mlflow.tensorflow: Encountered unexpected error while inferring batch size from training dataset: The layer \"tf_bert_for_sequence_classification\" has never been called and thus has no defined input shape. Note that the `input_shape` property is only available for Functional and Sequential models.\n",
      "2025/01/13 13:33:01 WARNING mlflow.data.tensorflow_dataset: Failed to infer schema for TensorFlow dataset. Exception: Failed to infer schema for tf.data.Dataset. Schemas can only be inferred if the dataset consists of tensors. Ragged tensors, tensor arrays, and other types are not supported. Additionally, datasets with nested tensors are not supported.\n",
      "2025/01/13 13:33:01 WARNING mlflow.data.tensorflow_dataset: Failed to infer schema for TensorFlow dataset. Exception: Failed to infer schema for tf.data.Dataset. Schemas can only be inferred if the dataset consists of tensors. Ragged tensors, tensor arrays, and other types are not supported. Additionally, datasets with nested tensors are not supported.\n"
     ]
    },
    {
     "name": "stdout",
     "output_type": "stream",
     "text": [
      "(102, 1, 128) (26, 1, 128) (102,) (26,) (102, 1, 128) (26, 1, 128)\n",
      "Epoch 1/3\n",
      "4/4 [==============================] - 41s 8s/step - loss: 0.7099 - accuracy: 0.4844 - val_loss: 0.6113 - val_accuracy: 0.8077\n",
      "Epoch 2/3\n",
      "4/4 [==============================] - 29s 7s/step - loss: 0.6316 - accuracy: 0.7734 - val_loss: 0.5532 - val_accuracy: 0.8462\n",
      "Epoch 3/3\n",
      "4/4 [==============================] - 29s 7s/step - loss: 0.5673 - accuracy: 0.8203 - val_loss: 0.4672 - val_accuracy: 0.9615\n",
      "1/1 [==============================] - 2s 2s/step\n"
     ]
    },
    {
     "name": "stderr",
     "output_type": "stream",
     "text": [
      "2025/01/13 13:35:06 WARNING mlflow.tensorflow: Failed to infer model signature: 'TFSequenceClassifierOutput' object has no attribute '__name__'\n",
      "2025/01/13 13:35:06 WARNING mlflow.tensorflow: You are saving a TensorFlow Core model or Keras model without a signature. Inference with mlflow.pyfunc.spark_udf() will not work unless the model's pyfunc representation accepts pandas DataFrames as inference inputs.\n",
      "WARNING:absl:Found untraced functions such as serving, embeddings_layer_call_fn, embeddings_layer_call_and_return_conditional_losses, encoder_layer_call_fn, encoder_layer_call_and_return_conditional_losses while saving (showing 5 of 421). These functions will not be directly callable after loading.\n"
     ]
    },
    {
     "name": "stdout",
     "output_type": "stream",
     "text": [
      "INFO:tensorflow:Assets written to: /tmp/tmph10qnkyk/model/data/model/assets\n"
     ]
    },
    {
     "name": "stderr",
     "output_type": "stream",
     "text": [
      "INFO:tensorflow:Assets written to: /tmp/tmph10qnkyk/model/data/model/assets\n",
      "2025/01/13 13:35:31 WARNING mlflow.models.model: Model logged without a signature and input example. Please set `input_example` parameter when logging the model to auto infer the model signature.\n"
     ]
    },
    {
     "name": "stdout",
     "output_type": "stream",
     "text": [
      "Evaluate on validation data\n",
      "==============\n",
      "4/4 [==============================] - 12s 3s/step - loss: 0.6454 - accuracy: 0.6328\n"
     ]
    },
    {
     "name": "stderr",
     "output_type": "stream",
     "text": [
      "2025-01-13 13:35:54.838760: E tensorflow/core/framework/node_def_util.cc:675] NodeDef mentions attribute epsilon which is not in the op definition: Op<name=_MklFusedBatchMatMulV2; signature=x:T, y:T, args:num_args*T -> output:T; attr=T:type,allowed=[DT_BFLOAT16, DT_FLOAT]; attr=adj_x:bool,default=false; attr=adj_y:bool,default=false; attr=num_args:int,min=0; attr=fused_ops:list(string),default=[]> This may be expected if your graph generating binary is newer  than this binary. Unknown attributes will be ignored. NodeDef: {{node tf_bert_for_sequence_classification/bert/encoder/layer_._0/attention/self/ArithmeticOptimizer/AddOpsRewrite_add_1}}\n"
     ]
    },
    {
     "name": "stdout",
     "output_type": "stream",
     "text": [
      "4/4 [==============================] - 11s 3s/step\n"
     ]
    },
    {
     "data": {
      "text/html": [
       "<div>\n",
       "<style scoped>\n",
       "    .dataframe tbody tr th:only-of-type {\n",
       "        vertical-align: middle;\n",
       "    }\n",
       "\n",
       "    .dataframe tbody tr th {\n",
       "        vertical-align: top;\n",
       "    }\n",
       "\n",
       "    .dataframe thead th {\n",
       "        text-align: right;\n",
       "    }\n",
       "</style>\n",
       "<table border=\"1\" class=\"dataframe\">\n",
       "  <thead>\n",
       "    <tr style=\"text-align: right;\">\n",
       "      <th></th>\n",
       "      <th>negative</th>\n",
       "      <th>positive</th>\n",
       "      <th>macro avg</th>\n",
       "    </tr>\n",
       "  </thead>\n",
       "  <tbody>\n",
       "    <tr>\n",
       "      <th>precision</th>\n",
       "      <td>0.733333</td>\n",
       "      <td>0.578313</td>\n",
       "      <td>0.655823</td>\n",
       "    </tr>\n",
       "    <tr>\n",
       "      <th>recall</th>\n",
       "      <td>0.485294</td>\n",
       "      <td>0.800000</td>\n",
       "      <td>0.642647</td>\n",
       "    </tr>\n",
       "    <tr>\n",
       "      <th>f1-score</th>\n",
       "      <td>0.584071</td>\n",
       "      <td>0.671329</td>\n",
       "      <td>0.627700</td>\n",
       "    </tr>\n",
       "    <tr>\n",
       "      <th>support</th>\n",
       "      <td>68.000000</td>\n",
       "      <td>60.000000</td>\n",
       "      <td>128.000000</td>\n",
       "    </tr>\n",
       "  </tbody>\n",
       "</table>\n",
       "</div>"
      ],
      "text/plain": [
       "            negative   positive   macro avg\n",
       "precision   0.733333   0.578313    0.655823\n",
       "recall      0.485294   0.800000    0.642647\n",
       "f1-score    0.584071   0.671329    0.627700\n",
       "support    68.000000  60.000000  128.000000"
      ]
     },
     "metadata": {},
     "output_type": "display_data"
    },
    {
     "data": {
      "image/png": "[encoded data removed]",
      "text/plain": [
       "<Figure size 640x480 with 2 Axes>"
      ]
     },
     "metadata": {},
     "output_type": "display_data"
    },
    {
     "data": {
      "image/png": "[encoded data removed]",
      "text/plain": [
       "<Figure size 640x480 with 1 Axes>"
      ]
     },
     "metadata": {},
     "output_type": "display_data"
    },
    {
     "name": "stdout",
     "output_type": "stream",
     "text": [
      "🏃 View run bert_sentiment_classification at: http://localhost:5000/#/experiments/14/runs/b6ac82ea9fbe40c6adfe5e25c0d97317\n",
      "🧪 View experiment at: http://localhost:5000/#/experiments/14\n"
     ]
    }
   ],
   "source": [
    "# Define the URI of the MLflow server and the name of the experiment & check if the prepared dataset is in the columns\n",
    "experiment = \"p7_bert_model\"\n",
    "\n",
    "# Set the tracking URI\n",
    "mlflow.set_tracking_uri(URI)\n",
    "# try to connect to the server\n",
    "try:\n",
    "    mlflow.tracking.get_tracking_uri()\n",
    "except Exception as e:\n",
    "    print(f\"Cannot connect to the server : {URI}. Check the server status.\")\n",
    "    raise e\n",
    "# Set, and create if necessary, the experiment\n",
    "try:\n",
    "    mlflow.create_experiment(experiment)\n",
    "except Exception:\n",
    "    pass\n",
    "finally:\n",
    "    mlflow.set_experiment(experiment)\n",
    "\n",
    "\n",
    "# Charger le tokenizer et le modèle BERT pour la classification\n",
    "model_name = \"bert-base-uncased\"\n",
    "tokenizer = BertTokenizer.from_pretrained(model_name)\n",
    "model = TFBertForSequenceClassification.from_pretrained(model_name, num_labels=2)\n",
    "col_name = \"text\"\n",
    "\n",
    "# Encode le train et le test\n",
    "train_full_input_ids, train_full_attention_masks, train_full_labels = (\n",
    "    transform_data_for_bert(X_train_full, y_train, col_name, tokenizer)\n",
    ")\n",
    "test_input_ids, test_attention_masks, test_labels = transform_data_for_bert(\n",
    "    X_test_full, y_test, col_name, tokenizer\n",
    ")\n",
    "\n",
    "# Vérifie les tailles\n",
    "len(train_full_input_ids), len(train_full_attention_masks), len(train_full_labels)\n",
    "# Séparer les ensembles de données\n",
    "train_input_ids, val_input_ids, train_labels, val_labels, train_masks, val_masks = (\n",
    "    train_test_split(\n",
    "        train_full_input_ids,\n",
    "        train_full_labels,\n",
    "        train_full_attention_masks,\n",
    "        test_size=0.2,\n",
    "        random_state=314,\n",
    "    )\n",
    ")\n",
    "# Vérifier les formes\n",
    "print(\n",
    "    train_input_ids.shape,\n",
    "    val_input_ids.shape,\n",
    "    train_labels.shape,\n",
    "    val_labels.shape,\n",
    "    train_masks.shape,\n",
    "    val_masks.shape,\n",
    ")\n",
    "\n",
    "# Batch size\n",
    "batch_size = 32\n",
    "# Prépare les datasets\n",
    "train_dataset = tf.data.Dataset.from_tensor_slices(\n",
    "    (\n",
    "        {\n",
    "            \"input_ids\": train_full_input_ids.squeeze(),\n",
    "            \"attention_mask\": train_full_attention_masks.squeeze(),\n",
    "        },\n",
    "        train_full_labels,\n",
    "    )\n",
    ").batch(batch_size)\n",
    "val_dataset = tf.data.Dataset.from_tensor_slices(\n",
    "    (\n",
    "        {\n",
    "            \"input_ids\": val_input_ids.squeeze(),\n",
    "            \"attention_mask\": val_masks.squeeze(),\n",
    "        },\n",
    "        val_labels,\n",
    "    )\n",
    ").batch(batch_size)\n",
    "test_dataset = tf.data.Dataset.from_tensor_slices(\n",
    "    (\n",
    "        {\n",
    "            \"input_ids\": test_input_ids.squeeze(),\n",
    "            \"attention_mask\": test_attention_masks.squeeze(),\n",
    "        },\n",
    "        test_labels,\n",
    "    )\n",
    ").batch(batch_size)\n",
    "\n",
    "# Compile le modèle\n",
    "loss = tf.keras.losses.SparseCategoricalCrossentropy(from_logits=True)\n",
    "metric = tf.keras.metrics.SparseCategoricalAccuracy(\"accuracy\")\n",
    "optimizer = tf.keras.optimizers.Adam(learning_rate=5e-5, epsilon=1e-08)\n",
    "model.compile(optimizer=optimizer, loss=loss, metrics=[metric])\n",
    "\n",
    "# Entraînement du modèle\n",
    "epochs = 3\n",
    "\n",
    "# Start the MLflow run & autolog\n",
    "mlflow.tensorflow.autolog(checkpoint=False, log_models=True, log_datasets=True)\n",
    "with mlflow.start_run(\n",
    "    run_name=\"bert_sentiment_classification_preprocess_text\"\n",
    ") as active_run:\n",
    "    # Entraine le modèle\n",
    "    history = model.fit(\n",
    "        train_dataset,\n",
    "        validation_data=val_dataset,\n",
    "        epochs=epochs,\n",
    "    )\n",
    "\n",
    "    # Evaluate the model\n",
    "    print(\"Evaluate on validation data\")\n",
    "    print(\"==============\")\n",
    "    start_time = time.time()\n",
    "    loss, accuracy = model.evaluate(test_dataset)\n",
    "    inference_time = time.time() - start_time\n",
    "    y_pred = model.predict([test_input_ids.squeeze(), test_attention_masks.squeeze()])\n",
    "    predictions = np.argmax(y_pred.logits, axis=1)\n",
    "    # Log classification report as artifact on mlflow\n",
    "    report = classification_report(\n",
    "        y_test, predictions, output_dict=True, target_names=[\"negative\", \"positive\"]\n",
    "    )\n",
    "    report_df = pd.DataFrame(report).filter([\"negative\", \"positive\", \"macro avg\"])\n",
    "    display(report_df)\n",
    "    report_df.to_csv(\"classification_report.csv\")\n",
    "    mlflow.log_artifact(\"classification_report.csv\")\n",
    "    # Use ConfustionMatrixDisplay and save it as png as an artifact on mflow\n",
    "    cm = ConfusionMatrixDisplay.from_predictions(\n",
    "        y_test, predictions, display_labels=[\"Negative\", \"Positive\"]\n",
    "    )\n",
    "    cm.figure_.savefig(\"confusion_matrix.png\")\n",
    "    mlflow.log_artifact(\"confusion_matrix.png\")\n",
    "    # Plot the loss and accuracy by epoch\n",
    "    dl.plot_loss(history).figure.savefig(\"loss_by_epoch.png\")\n",
    "    mlflow.log_artifact(\"loss_by_epoch.png\")\n",
    "    plt.show()\n",
    "    # Récupère les métriques avec le meilleur val_loss\n",
    "    best_val_loss = np.array(history.history[\"val_loss\"])\n",
    "    indice_best_val_loss = int(np.argmin(best_val_loss))\n",
    "    mlflow.log_metrics(\n",
    "        {\n",
    "            \"log_loss\": loss,\n",
    "            \"val_loss\": history.history[\"val_loss\"][indice_best_val_loss],\n",
    "            \"accuracy_score\": accuracy,\n",
    "            \"val_accuracy\": history.history[\"val_accuracy\"][indice_best_val_loss],\n",
    "            \"inference_time\": inference_time,\n",
    "        }\n",
    "    )\n",
    "    mlflow.log_params(\n",
    "        {\n",
    "            \"data_preparation\": col_name,\n",
    "            \"learning_rate\": 5e-5,\n",
    "            \"batch_size_\": batch_size,\n",
    "            \"standardization\": \"custom_standardization_punct\",\n",
    "            \"test_size_ratio\": 0.2,\n",
    "            \"validation_split_\": 0.2,\n",
    "            \"pretrained_weights\": model_name,\n",
    "        }\n",
    "    )\n"
   ]
  }
 ],
 "metadata": {
  "kernelspec": {
   "display_name": "p7_tf_cpu",
   "language": "python",
   "name": "python3"
  },
  "language_info": {
   "codemirror_mode": {
    "name": "ipython",
    "version": 3
   },
   "file_extension": ".py",
   "mimetype": "text/x-python",
   "name": "python",
   "nbconvert_exporter": "python",
   "pygments_lexer": "ipython3",
   "version": "3.10.13"
  }
 },
 "nbformat": 4,
 "nbformat_minor": 2
}
